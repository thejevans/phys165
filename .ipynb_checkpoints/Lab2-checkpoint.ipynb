{
 "cells": [
  {
   "cell_type": "code",
   "execution_count": 1,
   "metadata": {},
   "outputs": [],
   "source": [
    "import numpy as np\n",
    "import matplotlib.pyplot as plt\n",
    "\n",
    "p_mean       = 3.0       # GeV/c\n",
    "p_sigma      = 0.3       # GeV/c\n",
    "decay_length = 150.0     # m\n",
    "location     = 1000      # m\n",
    "cross_sec    = np.pi     # m^2\n",
    "m_pion       = 0.13957   # GeV/c^2\n",
    "m_muon       = 1.057e-5  # GeV/c^2\n",
    "m_numu       = 0         # GeV/c^2\n",
    "c            = 2.9979e8  # m/s\n",
    "t_pion       = 2.6033e-8 # s\n",
    "\n",
    "\n",
    "\n",
    "def p4_hist(p4):\n",
    "    plt.hist(p4[:,0], bins = 50)\n",
    "    plt.show()\n",
    "    plt.hist(p4[:,1], bins = 50)\n",
    "    plt.show()\n",
    "    plt.hist(p4[:,2], bins = 50)\n",
    "    plt.show()\n",
    "    plt.hist(p4[:,3], bins = 50)\n",
    "    plt.show()\n",
    "    \n",
    "def two_body_decay(M,m1,m2, size = 1):\n",
    "    p4        = np.zeros((size, 4))\n",
    "    p4[:,0]   = (M**2 + m1**2 - m2**2)/(2.0*M)    #E1=(M**2+m1**2-m2**2)/(2*M)\n",
    "    P1        = np.sqrt(p4[:,0]**2 - m1**2)\n",
    "    phi       = 2.0*np.pi*np.random.random(size)  #random phi 0-2pi\n",
    "    cos_theta = -1.0 + 2.0*np.random.random(size) # random cos theta -1 to 1\n",
    "    sin_theta = np.sqrt(1. - cos_theta**2)\n",
    "    p4[:,3]   = P1*cos_theta\n",
    "    p4[:,1]   = P1*sin_theta*np.cos(phi)\n",
    "    p4[:,2]   = P1*sin_theta*np.sin(phi)\n",
    "    return p4\n",
    "\n",
    "def Lorentz_transform(p4_rest, gamma, beta):\n",
    "    p4_lab        = np.zeros((len(gamma), 4))\n",
    "    p4_lab[:,1:2] = p4_rest[:,1:2]\n",
    "    p4_lab[:,0]   = gamma*(p4_rest[:,0] + beta*p4_rest[:,3])\n",
    "    p4_lab[:,3]   = gamma*(p4_rest[:,0]/beta + p4_rest[:,3])\n",
    "    return p4_lab"
   ]
  },
  {
   "cell_type": "code",
   "execution_count": 2,
   "metadata": {},
   "outputs": [],
   "source": [
    "p4_pion = np.zeros((n_pions, 4))\n",
    "\n",
    "p4_pion[:,3] = np.random.normal(loc = p_mean, scale = p_sigma, size = n_pions)\n",
    "p4_pion[:,0] = p4_pion[:,3]**2 + (m_pion**2)\n",
    "#p4_hist(p4_pion)"
   ]
  },
  {
   "cell_type": "code",
   "execution_count": 3,
   "metadata": {},
   "outputs": [],
   "source": [
    "length_p       = p4_pion[:,3]/m_pion*c*t_pion\n",
    "pi_decay_point = np.random.exponential(length_p)\n",
    "\n",
    "# Take only the pions that decay inside the tunnel\n",
    "decay_mask,              = np.where(pi_decay_point < decay_length)\n",
    "remaining_p4_pion        = p4_pion[decay_mask,:]\n",
    "remaining_pi_decay_point = pi_decay_point[decay_mask]\n",
    "remaining_pions          = len(remaining_pi_decay_point)\n",
    "#p4_hist(remaining_p4_pion)"
   ]
  },
  {
   "cell_type": "code",
   "execution_count": 4,
   "metadata": {},
   "outputs": [],
   "source": [
    "p4_neutrino_rest = two_body_decay(m_pion, m_numu, m_muon, size = remaining_pions)\n",
    "#p4_hist(p4_neutrino_rest)"
   ]
  },
  {
   "cell_type": "code",
   "execution_count": 5,
   "metadata": {},
   "outputs": [],
   "source": [
    "gamma = remaining_p4_pion[:,0]/m_pion                 # gamma = E/m\n",
    "beta  = remaining_p4_pion[:,3]/remaining_p4_pion[:,0] # beta  = P/E in these units\n",
    "\n",
    "p4_neutrino = Lorentz_transform(p4_neutrino_rest, gamma, beta)\n",
    "#p4_hist(p4_neutrino)"
   ]
  },
  {
   "cell_type": "code",
   "execution_count": 8,
   "metadata": {},
   "outputs": [
    {
     "data": {
      "image/png": "[encoded data removed]",
      "text/plain": [
       "<Figure size 432x288 with 1 Axes>"
      ]
     },
     "metadata": {},
     "output_type": "display_data"
    }
   ],
   "source": [
    "max_detector_angle = np.arctan(1/(1000-remaining_pi_decay_point))\n",
    "\n",
    "cos_theta = p4_neutrino[:,3]/np.sqrt(p4_neutrino[:,1]**2+p4_neutrino[:,2]**2+p4_neutrino[:,3]**2)\n",
    "detector_hit_angle = np.arccos(cos_theta)\n",
    "\n",
    "hit_mask,       = np.where(np.abs(detector_hit_angle) < np.abs(max_detector_angle))\n",
    "hit_p4_neutrino = p4_neutrino[hit_mask,:]\n",
    "\n",
    "plt.hist(hit_p4_neutrino[:,0], bins = 100, density = True, histtype = 'step', align = 'left')\n",
    "plt.hist(p4_neutrino[:,0], bins = 100, density = True, histtype = 'step', align = 'left')\n",
    "plt.show()"
   ]
  },
  {
   "cell_type": "code",
   "execution_count": null,
   "metadata": {},
   "outputs": [],
   "source": []
  }
 ],
 "metadata": {
  "kernelspec": {
   "display_name": "Python 3",
   "language": "python",
   "name": "python3"
  },
  "language_info": {
   "codemirror_mode": {
    "name": "ipython",
    "version": 3
   },
   "file_extension": ".py",
   "mimetype": "text/x-python",
   "name": "python",
   "nbconvert_exporter": "python",
   "pygments_lexer": "ipython3",
   "version": "3.5.2"
  }
 },
 "nbformat": 4,
 "nbformat_minor": 2
}
